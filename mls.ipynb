{
 "cells": [
  {
   "cell_type": "code",
   "execution_count": 1,
   "metadata": {},
   "outputs": [],
   "source": [
    "import pandas as pd\n"
   ]
  },
  {
   "cell_type": "code",
   "execution_count": 2,
   "metadata": {},
   "outputs": [],
   "source": [
    "mls = pd.read_csv('usa (1).csv')"
   ]
  },
  {
   "cell_type": "code",
   "execution_count": 3,
   "metadata": {},
   "outputs": [
    {
     "data": {
      "text/html": [
       "<div>\n",
       "<style scoped>\n",
       "    .dataframe tbody tr th:only-of-type {\n",
       "        vertical-align: middle;\n",
       "    }\n",
       "\n",
       "    .dataframe tbody tr th {\n",
       "        vertical-align: top;\n",
       "    }\n",
       "\n",
       "    .dataframe thead th {\n",
       "        text-align: right;\n",
       "    }\n",
       "</style>\n",
       "<table border=\"1\" class=\"dataframe\">\n",
       "  <thead>\n",
       "    <tr style=\"text-align: right;\">\n",
       "      <th></th>\n",
       "      <th>Country</th>\n",
       "      <th>League</th>\n",
       "      <th>Season</th>\n",
       "      <th>Date</th>\n",
       "      <th>Time</th>\n",
       "      <th>Home</th>\n",
       "      <th>Away</th>\n",
       "      <th>HG</th>\n",
       "      <th>AG</th>\n",
       "      <th>Res</th>\n",
       "      <th>PH</th>\n",
       "      <th>PD</th>\n",
       "      <th>PA</th>\n",
       "      <th>MaxH</th>\n",
       "      <th>MaxD</th>\n",
       "      <th>MaxA</th>\n",
       "      <th>AvgH</th>\n",
       "      <th>AvgD</th>\n",
       "      <th>AvgA</th>\n",
       "    </tr>\n",
       "  </thead>\n",
       "  <tbody>\n",
       "    <tr>\n",
       "      <th>0</th>\n",
       "      <td>USA</td>\n",
       "      <td>MLS</td>\n",
       "      <td>2012</td>\n",
       "      <td>10/03/2012</td>\n",
       "      <td>23:00</td>\n",
       "      <td>Colorado Rapids</td>\n",
       "      <td>Columbus Crew</td>\n",
       "      <td>2</td>\n",
       "      <td>0</td>\n",
       "      <td>H</td>\n",
       "      <td>2.06</td>\n",
       "      <td>3.40</td>\n",
       "      <td>4.11</td>\n",
       "      <td>2.13</td>\n",
       "      <td>3.40</td>\n",
       "      <td>4.11</td>\n",
       "      <td>2.01</td>\n",
       "      <td>3.19</td>\n",
       "      <td>3.65</td>\n",
       "    </tr>\n",
       "    <tr>\n",
       "      <th>1</th>\n",
       "      <td>USA</td>\n",
       "      <td>MLS</td>\n",
       "      <td>2012</td>\n",
       "      <td>10/03/2012</td>\n",
       "      <td>23:00</td>\n",
       "      <td>Vancouver Whitecaps</td>\n",
       "      <td>Montreal Impact</td>\n",
       "      <td>2</td>\n",
       "      <td>0</td>\n",
       "      <td>H</td>\n",
       "      <td>2.04</td>\n",
       "      <td>3.44</td>\n",
       "      <td>4.11</td>\n",
       "      <td>2.04</td>\n",
       "      <td>3.44</td>\n",
       "      <td>4.11</td>\n",
       "      <td>1.97</td>\n",
       "      <td>3.27</td>\n",
       "      <td>3.70</td>\n",
       "    </tr>\n",
       "    <tr>\n",
       "      <th>2</th>\n",
       "      <td>USA</td>\n",
       "      <td>MLS</td>\n",
       "      <td>2012</td>\n",
       "      <td>11/03/2012</td>\n",
       "      <td>00:30</td>\n",
       "      <td>DC United</td>\n",
       "      <td>Sporting Kansas City</td>\n",
       "      <td>0</td>\n",
       "      <td>1</td>\n",
       "      <td>A</td>\n",
       "      <td>2.57</td>\n",
       "      <td>3.31</td>\n",
       "      <td>3.04</td>\n",
       "      <td>2.60</td>\n",
       "      <td>3.60</td>\n",
       "      <td>3.04</td>\n",
       "      <td>2.46</td>\n",
       "      <td>3.11</td>\n",
       "      <td>2.81</td>\n",
       "    </tr>\n",
       "    <tr>\n",
       "      <th>3</th>\n",
       "      <td>USA</td>\n",
       "      <td>MLS</td>\n",
       "      <td>2012</td>\n",
       "      <td>11/03/2012</td>\n",
       "      <td>03:30</td>\n",
       "      <td>Los Angeles Galaxy</td>\n",
       "      <td>Real Salt Lake</td>\n",
       "      <td>1</td>\n",
       "      <td>3</td>\n",
       "      <td>A</td>\n",
       "      <td>1.88</td>\n",
       "      <td>3.57</td>\n",
       "      <td>4.88</td>\n",
       "      <td>1.89</td>\n",
       "      <td>3.57</td>\n",
       "      <td>5.00</td>\n",
       "      <td>1.81</td>\n",
       "      <td>3.33</td>\n",
       "      <td>4.31</td>\n",
       "    </tr>\n",
       "    <tr>\n",
       "      <th>4</th>\n",
       "      <td>USA</td>\n",
       "      <td>MLS</td>\n",
       "      <td>2012</td>\n",
       "      <td>11/03/2012</td>\n",
       "      <td>03:30</td>\n",
       "      <td>San Jose Earthquakes</td>\n",
       "      <td>New England Revolution</td>\n",
       "      <td>1</td>\n",
       "      <td>0</td>\n",
       "      <td>H</td>\n",
       "      <td>1.83</td>\n",
       "      <td>3.65</td>\n",
       "      <td>4.95</td>\n",
       "      <td>1.91</td>\n",
       "      <td>3.68</td>\n",
       "      <td>5.00</td>\n",
       "      <td>1.82</td>\n",
       "      <td>3.36</td>\n",
       "      <td>4.23</td>\n",
       "    </tr>\n",
       "  </tbody>\n",
       "</table>\n",
       "</div>"
      ],
      "text/plain": [
       "  Country League  Season        Date   Time                  Home  \\\n",
       "0     USA    MLS    2012  10/03/2012  23:00       Colorado Rapids   \n",
       "1     USA    MLS    2012  10/03/2012  23:00   Vancouver Whitecaps   \n",
       "2     USA    MLS    2012  11/03/2012  00:30             DC United   \n",
       "3     USA    MLS    2012  11/03/2012  03:30    Los Angeles Galaxy   \n",
       "4     USA    MLS    2012  11/03/2012  03:30  San Jose Earthquakes   \n",
       "\n",
       "                     Away  HG  AG Res    PH    PD    PA  MaxH  MaxD  MaxA  \\\n",
       "0           Columbus Crew   2   0   H  2.06  3.40  4.11  2.13  3.40  4.11   \n",
       "1         Montreal Impact   2   0   H  2.04  3.44  4.11  2.04  3.44  4.11   \n",
       "2    Sporting Kansas City   0   1   A  2.57  3.31  3.04  2.60  3.60  3.04   \n",
       "3          Real Salt Lake   1   3   A  1.88  3.57  4.88  1.89  3.57  5.00   \n",
       "4  New England Revolution   1   0   H  1.83  3.65  4.95  1.91  3.68  5.00   \n",
       "\n",
       "   AvgH  AvgD  AvgA  \n",
       "0  2.01  3.19  3.65  \n",
       "1  1.97  3.27  3.70  \n",
       "2  2.46  3.11  2.81  \n",
       "3  1.81  3.33  4.31  \n",
       "4  1.82  3.36  4.23  "
      ]
     },
     "execution_count": 3,
     "metadata": {},
     "output_type": "execute_result"
    }
   ],
   "source": [
    "mls.head()"
   ]
  },
  {
   "cell_type": "code",
   "execution_count": 4,
   "metadata": {},
   "outputs": [
    {
     "name": "stdout",
     "output_type": "stream",
     "text": [
      "<class 'pandas.core.frame.DataFrame'>\n",
      "RangeIndex: 2948 entries, 0 to 2947\n",
      "Data columns (total 19 columns):\n",
      "Country    2948 non-null object\n",
      "League     2948 non-null object\n",
      "Season     2948 non-null int64\n",
      "Date       2948 non-null object\n",
      "Time       2948 non-null object\n",
      "Home       2948 non-null object\n",
      "Away       2948 non-null object\n",
      "HG         2948 non-null int64\n",
      "AG         2948 non-null int64\n",
      "Res        2948 non-null object\n",
      "PH         2948 non-null float64\n",
      "PD         2948 non-null float64\n",
      "PA         2948 non-null float64\n",
      "MaxH       2948 non-null float64\n",
      "MaxD       2948 non-null float64\n",
      "MaxA       2948 non-null float64\n",
      "AvgH       2948 non-null float64\n",
      "AvgD       2948 non-null float64\n",
      "AvgA       2948 non-null float64\n",
      "dtypes: float64(9), int64(3), object(7)\n",
      "memory usage: 437.7+ KB\n"
     ]
    }
   ],
   "source": [
    "mls.info()"
   ]
  },
  {
   "cell_type": "markdown",
   "metadata": {},
   "source": [
    "date column is a object.  should i convert to datatype: datetime?"
   ]
  },
  {
   "cell_type": "markdown",
   "metadata": {},
   "source": [
    "df['A'] = pd.to_datetime(df['A'])"
   ]
  },
  {
   "cell_type": "markdown",
   "metadata": {},
   "source": [
    "drop some unnecessary columns related to sports betting odds"
   ]
  },
  {
   "cell_type": "code",
   "execution_count": 5,
   "metadata": {},
   "outputs": [],
   "source": [
    "columns = ['Country', 'PH', 'PD', 'PA', 'MaxH', 'MaxD', 'MaxA', 'AvgH', 'AvgD', 'AvgA']\n",
    "mls.drop(columns, inplace=True, axis=1)"
   ]
  },
  {
   "cell_type": "markdown",
   "metadata": {},
   "source": [
    "list of all unique mls teams, then map out their cities"
   ]
  },
  {
   "cell_type": "markdown",
   "metadata": {},
   "source": [
    "first get a list of all unique values in the column using : #List unique values in the df['name'] column\n",
    "df.name.unique() as a template"
   ]
  },
  {
   "cell_type": "code",
   "execution_count": 6,
   "metadata": {},
   "outputs": [],
   "source": [
    "cities = mls.Home.unique()"
   ]
  },
  {
   "cell_type": "code",
   "execution_count": 7,
   "metadata": {},
   "outputs": [
    {
     "name": "stdout",
     "output_type": "stream",
     "text": [
      "['Colorado Rapids' 'Vancouver Whitecaps' 'DC United' 'Los Angeles Galaxy'\n",
      " 'San Jose Earthquakes' 'FC Dallas' 'Chivas USA' 'Portland Timbers'\n",
      " 'Montreal Impact' 'Sporting Kansas City' 'Real Salt Lake'\n",
      " 'Seattle Sounders' 'Philadelphia Union' 'Toronto FC' 'Columbus Crew'\n",
      " 'New England Revolution' 'Chicago Fire' 'New York Red Bulls'\n",
      " 'Houston Dynamo' 'Orlando City' 'New York City' 'Atlanta United'\n",
      " 'Minnesota United' 'Los Angeles FC' 'FC Cincinnati' 'Atlanta Utd']\n"
     ]
    }
   ],
   "source": [
    "print(cities)"
   ]
  },
  {
   "cell_type": "markdown",
   "metadata": {},
   "source": [
    "noteworthy data quality:  Atlanta duplicated as United and Utd"
   ]
  },
  {
   "cell_type": "markdown",
   "metadata": {},
   "source": [
    "Now, we want to replace values in a column:  home team to city using this as a template: w['female'] = w['female'].map({'female': 1, 'male': 0})"
   ]
  },
  {
   "cell_type": "code",
   "execution_count": 8,
   "metadata": {},
   "outputs": [],
   "source": [
    "mls[\"City\"] = mls[\"Home\"].map({'Atlanta Utd': 'Atlanta, GA', 'FC Cincinnati': 'Cincinnati, OH', 'Los Angeles FC': 'Los Angeles, CA', 'Minnesota United': 'Minneapolis, MN', 'Atlanta United': 'Atlanta, GA', 'New York City':'New York, NY', 'Orlando City': 'Orlando, FL', 'Houston Dynamo': 'Houston, TX', 'New York Red Bulls': 'New York, NY', 'Chicago Fire': 'Chicago, IL', 'New England Revolution': 'Boston, MA', 'Columbus Crew': 'Columbus, OH', 'Toronto FC': 'Toronto, Ontario', 'Philadelphia Union': 'Philadelphia, PA', 'Seattle Sounders': 'Seattle, WA', 'Real Salt Lake':'Salt Lake City, UT', 'Sporting Kansas City':'Kansas City, MO', 'Montreal Impact' : 'Montreal, Quebec', 'Chivas USA': 'Los Angeles, CA' , 'FC Dallas': 'Dallas, TX', 'Colorado Rapids': 'Denver, CO', 'Vancouver Whitecaps': 'Vancouver, Canada', 'DC United': 'Washington, DC', 'Los Angeles Galaxy': 'Los Angeles, CA', 'San Jose Earthquakes': 'San Jose, CA' })"
   ]
  },
  {
   "cell_type": "code",
   "execution_count": 9,
   "metadata": {},
   "outputs": [
    {
     "data": {
      "text/html": [
       "<div>\n",
       "<style scoped>\n",
       "    .dataframe tbody tr th:only-of-type {\n",
       "        vertical-align: middle;\n",
       "    }\n",
       "\n",
       "    .dataframe tbody tr th {\n",
       "        vertical-align: top;\n",
       "    }\n",
       "\n",
       "    .dataframe thead th {\n",
       "        text-align: right;\n",
       "    }\n",
       "</style>\n",
       "<table border=\"1\" class=\"dataframe\">\n",
       "  <thead>\n",
       "    <tr style=\"text-align: right;\">\n",
       "      <th></th>\n",
       "      <th>League</th>\n",
       "      <th>Season</th>\n",
       "      <th>Date</th>\n",
       "      <th>Time</th>\n",
       "      <th>Home</th>\n",
       "      <th>Away</th>\n",
       "      <th>HG</th>\n",
       "      <th>AG</th>\n",
       "      <th>Res</th>\n",
       "      <th>City</th>\n",
       "    </tr>\n",
       "  </thead>\n",
       "  <tbody>\n",
       "    <tr>\n",
       "      <th>0</th>\n",
       "      <td>MLS</td>\n",
       "      <td>2012</td>\n",
       "      <td>10/03/2012</td>\n",
       "      <td>23:00</td>\n",
       "      <td>Colorado Rapids</td>\n",
       "      <td>Columbus Crew</td>\n",
       "      <td>2</td>\n",
       "      <td>0</td>\n",
       "      <td>H</td>\n",
       "      <td>Denver, CO</td>\n",
       "    </tr>\n",
       "    <tr>\n",
       "      <th>1</th>\n",
       "      <td>MLS</td>\n",
       "      <td>2012</td>\n",
       "      <td>10/03/2012</td>\n",
       "      <td>23:00</td>\n",
       "      <td>Vancouver Whitecaps</td>\n",
       "      <td>Montreal Impact</td>\n",
       "      <td>2</td>\n",
       "      <td>0</td>\n",
       "      <td>H</td>\n",
       "      <td>Vancouver, Canada</td>\n",
       "    </tr>\n",
       "    <tr>\n",
       "      <th>2</th>\n",
       "      <td>MLS</td>\n",
       "      <td>2012</td>\n",
       "      <td>11/03/2012</td>\n",
       "      <td>00:30</td>\n",
       "      <td>DC United</td>\n",
       "      <td>Sporting Kansas City</td>\n",
       "      <td>0</td>\n",
       "      <td>1</td>\n",
       "      <td>A</td>\n",
       "      <td>Washington, DC</td>\n",
       "    </tr>\n",
       "    <tr>\n",
       "      <th>3</th>\n",
       "      <td>MLS</td>\n",
       "      <td>2012</td>\n",
       "      <td>11/03/2012</td>\n",
       "      <td>03:30</td>\n",
       "      <td>Los Angeles Galaxy</td>\n",
       "      <td>Real Salt Lake</td>\n",
       "      <td>1</td>\n",
       "      <td>3</td>\n",
       "      <td>A</td>\n",
       "      <td>Los Angeles, CA</td>\n",
       "    </tr>\n",
       "    <tr>\n",
       "      <th>4</th>\n",
       "      <td>MLS</td>\n",
       "      <td>2012</td>\n",
       "      <td>11/03/2012</td>\n",
       "      <td>03:30</td>\n",
       "      <td>San Jose Earthquakes</td>\n",
       "      <td>New England Revolution</td>\n",
       "      <td>1</td>\n",
       "      <td>0</td>\n",
       "      <td>H</td>\n",
       "      <td>San Jose, CA</td>\n",
       "    </tr>\n",
       "  </tbody>\n",
       "</table>\n",
       "</div>"
      ],
      "text/plain": [
       "  League  Season        Date   Time                  Home  \\\n",
       "0    MLS    2012  10/03/2012  23:00       Colorado Rapids   \n",
       "1    MLS    2012  10/03/2012  23:00   Vancouver Whitecaps   \n",
       "2    MLS    2012  11/03/2012  00:30             DC United   \n",
       "3    MLS    2012  11/03/2012  03:30    Los Angeles Galaxy   \n",
       "4    MLS    2012  11/03/2012  03:30  San Jose Earthquakes   \n",
       "\n",
       "                     Away  HG  AG Res               City  \n",
       "0           Columbus Crew   2   0   H         Denver, CO  \n",
       "1         Montreal Impact   2   0   H  Vancouver, Canada  \n",
       "2    Sporting Kansas City   0   1   A     Washington, DC  \n",
       "3          Real Salt Lake   1   3   A    Los Angeles, CA  \n",
       "4  New England Revolution   1   0   H       San Jose, CA  "
      ]
     },
     "execution_count": 9,
     "metadata": {},
     "output_type": "execute_result"
    }
   ],
   "source": [
    "mls.head()"
   ]
  },
  {
   "cell_type": "markdown",
   "metadata": {},
   "source": [
    "draws = mls.loc[mls['Res'] == 'D']"
   ]
  },
  {
   "cell_type": "markdown",
   "metadata": {},
   "source": [
    "719 draws out of 2948 total matches"
   ]
  },
  {
   "cell_type": "code",
   "execution_count": 21,
   "metadata": {},
   "outputs": [],
   "source": [
    "list_of_dates_with_draws = mls.loc[mls['Res'] == 'D']"
   ]
  },
  {
   "cell_type": "code",
   "execution_count": 24,
   "metadata": {},
   "outputs": [
    {
     "name": "stdout",
     "output_type": "stream",
     "text": [
      "     League  Season        Date   Time                  Home  \\\n",
      "2922    MLS    2019  30/09/2019  00:30  Sporting Kansas City   \n",
      "2924    MLS    2019  06/10/2019  21:00             DC United   \n",
      "2936    MLS    2019  19/10/2019  20:30      Seattle Sounders   \n",
      "2937    MLS    2019  19/10/2019  23:00            Toronto FC   \n",
      "2939    MLS    2019  20/10/2019  20:00    Philadelphia Union   \n",
      "\n",
      "                    Away  HG  AG Res              City  \n",
      "2922    Portland Timbers   2   2   D   Kansas City, MO  \n",
      "2924       FC Cincinnati   0   0   D    Washington, DC  \n",
      "2936           FC Dallas   3   3   D       Seattle, WA  \n",
      "2937           DC United   1   1   D  Toronto, Ontario  \n",
      "2939  New York Red Bulls   3   3   D  Philadelphia, PA  \n"
     ]
    }
   ],
   "source": [
    "print(list_of_dates_with_draws.tail())"
   ]
  },
  {
   "cell_type": "code",
   "execution_count": 12,
   "metadata": {},
   "outputs": [
    {
     "name": "stdout",
     "output_type": "stream",
     "text": [
      "719\n"
     ]
    }
   ],
   "source": [
    "print(len(list_of_dates_with_draws))"
   ]
  },
  {
   "cell_type": "code",
   "execution_count": 13,
   "metadata": {},
   "outputs": [],
   "source": [
    "list_of_times_of_draws = mls.loc[mls['Res'] == 'D']['Time'].tolist()"
   ]
  },
  {
   "cell_type": "code",
   "execution_count": 14,
   "metadata": {},
   "outputs": [],
   "source": [
    "list_of_cities_of_draws = mls.loc[mls['Res'] == 'D']['City'].tolist()"
   ]
  },
  {
   "cell_type": "markdown",
   "metadata": {},
   "source": [
    "Do Python lists maintain order?\n",
    "Yes, the order of elements in a python list is persistent. In short, yes, the order is preserved. via stackoverflow Dec 4, 2012"
   ]
  },
  {
   "cell_type": "markdown",
   "metadata": {},
   "source": [
    "do i need to convert the time to local time?  "
   ]
  },
  {
   "cell_type": "code",
   "execution_count": 18,
   "metadata": {},
   "outputs": [
    {
     "name": "stdout",
     "output_type": "stream",
     "text": [
      "['Montreal, Quebec', 'Dallas, TX', 'Vancouver, Canada', 'Philadelphia, PA', 'Washington, DC', 'New York, NY', 'Chicago, IL', 'Washington, DC', 'Columbus, OH', 'Dallas, TX', 'Los Angeles, CA', nan, 'Chicago, IL', 'Montreal, Quebec', 'San Jose, CA', 'Houston, TX', 'Vancouver, Canada', 'Boston, MA', 'Dallas, TX', 'Denver, CO', 'San Jose, CA', 'New York, NY', nan, 'Los Angeles, CA', 'Boston, MA', 'Houston, TX', 'Seattle, WA', 'Vancouver, Canada', 'Toronto, Ontario', 'Dallas, TX', 'Toronto, Ontario', 'Boston, MA', 'Houston, TX', 'Dallas, TX', 'Salt Lake City, UT', 'Kansas City, MO', 'Dallas, TX', 'Los Angeles, CA', 'New York, NY', 'Vancouver, Canada', 'Kansas City, MO', 'San Jose, CA', nan, 'Columbus, OH', 'Toronto, Ontario', 'Denver, CO', 'Washington, DC', 'Houston, TX', 'Philadelphia, PA', 'Houston, TX', 'Kansas City, MO', 'Washington, DC', 'Boston, MA', 'Boston, MA', 'Dallas, TX', 'Kansas City, MO', 'Toronto, Ontario', nan, 'San Jose, CA', 'Montreal, Quebec', 'Boston, MA', 'Vancouver, Canada', 'Vancouver, Canada', nan, 'San Jose, CA', 'Denver, CO', 'Houston, TX', 'Columbus, OH', 'Los Angeles, CA', 'Seattle, WA', 'Toronto, Ontario', 'New York, NY', 'San Jose, CA', 'Chicago, IL', nan, 'Salt Lake City, UT', 'Dallas, TX', 'Seattle, WA', 'Washington, DC', 'Washington, DC', nan, 'New York, NY', 'Kansas City, MO', 'Columbus, OH', 'Salt Lake City, UT', 'Seattle, WA', 'Los Angeles, CA', 'Boston, MA', 'Toronto, Ontario', 'Denver, CO', 'Toronto, Ontario', 'Columbus, OH', 'San Jose, CA', 'Philadelphia, PA', 'Seattle, WA', 'Vancouver, Canada', 'Montreal, Quebec', 'Toronto, Ontario', 'San Jose, CA', 'Vancouver, Canada', 'Los Angeles, CA', 'Houston, TX', nan, 'Philadelphia, PA', 'San Jose, CA', 'Dallas, TX', 'Boston, MA', 'Vancouver, Canada', 'San Jose, CA', 'Washington, DC', 'Salt Lake City, UT', 'Kansas City, MO', 'New York, NY', 'Toronto, Ontario', 'Columbus, OH', 'Denver, CO', 'Boston, MA', 'Chicago, IL', 'Los Angeles, CA', 'Dallas, TX', 'Houston, TX', 'Philadelphia, PA', 'Los Angeles, CA', 'Toronto, Ontario', 'Kansas City, MO', 'Salt Lake City, UT', 'Dallas, TX', 'Montreal, Quebec', 'Denver, CO', 'Seattle, WA', 'Toronto, Ontario', 'Montreal, Quebec', 'Philadelphia, PA', 'Houston, TX', 'Denver, CO', nan, 'Dallas, TX', 'Los Angeles, CA', 'New York, NY', nan, 'Washington, DC', 'Dallas, TX', 'Toronto, Ontario', 'Philadelphia, PA', 'Chicago, IL', 'Vancouver, Canada', 'Toronto, Ontario', 'Washington, DC', 'Los Angeles, CA', 'San Jose, CA', 'Los Angeles, CA', 'Boston, MA', 'Chicago, IL', 'Seattle, WA', 'New York, NY', 'Salt Lake City, UT', 'Vancouver, Canada', 'Houston, TX', 'Washington, DC', nan, 'Los Angeles, CA', 'Seattle, WA', 'Houston, TX', 'New York, NY', 'Houston, TX', 'Kansas City, MO', nan, 'New York, NY', 'Kansas City, MO', 'San Jose, CA', nan, 'Los Angeles, CA', 'Boston, MA', 'Salt Lake City, UT', 'Chicago, IL', 'Washington, DC', 'Philadelphia, PA', 'New York, NY', nan, 'Montreal, Quebec', 'Chicago, IL', 'Kansas City, MO', 'Montreal, Quebec', 'Philadelphia, PA', nan, 'San Jose, CA', 'Chicago, IL', 'Philadelphia, PA', 'Denver, CO', 'Vancouver, Canada', 'Columbus, OH', 'Columbus, OH', 'Salt Lake City, UT', 'Houston, TX', 'San Jose, CA', nan, 'Washington, DC', 'Dallas, TX', nan, 'Kansas City, MO', 'Vancouver, Canada', 'Salt Lake City, UT', 'Kansas City, MO', 'Chicago, IL', 'Columbus, OH', 'Denver, CO', 'Washington, DC', 'Philadelphia, PA', 'Los Angeles, CA', nan, 'Vancouver, Canada', 'New York, NY', 'Columbus, OH', 'Chicago, IL', 'Houston, TX', 'Denver, CO', 'Los Angeles, CA', 'Kansas City, MO', 'Philadelphia, PA', 'Toronto, Ontario', 'New York, NY', 'Chicago, IL', 'Houston, TX', 'Salt Lake City, UT', 'Vancouver, Canada', 'Chicago, IL', 'Salt Lake City, UT', 'Kansas City, MO', 'Chicago, IL', 'Los Angeles, CA', 'Boston, MA', 'Los Angeles, CA', 'Seattle, WA', 'Toronto, Ontario', 'San Jose, CA', 'Vancouver, Canada', nan, 'Montreal, Quebec', 'Philadelphia, PA', 'Chicago, IL', 'Houston, TX', 'Denver, CO', 'San Jose, CA', 'Philadelphia, PA', 'Chicago, IL', 'Denver, CO', 'Philadelphia, PA', 'Washington, DC', 'Chicago, IL', 'Montreal, Quebec', nan, 'Toronto, Ontario', 'San Jose, CA', 'Los Angeles, CA', 'Montreal, Quebec', 'Salt Lake City, UT', 'Dallas, TX', 'Seattle, WA', 'Boston, MA', 'Los Angeles, CA', 'Philadelphia, PA', nan, 'Orlando, FL', 'Kansas City, MO', 'Salt Lake City, UT', nan, 'Boston, MA', 'Denver, CO', 'Kansas City, MO', 'Los Angeles, CA', 'Montreal, Quebec', 'Dallas, TX', 'Houston, TX', 'Vancouver, Canada', 'Boston, MA', 'Washington, DC', 'Kansas City, MO', 'New York, NY', 'Washington, DC', 'Denver, CO', 'Houston, TX', 'New York, NY', 'New York, NY', 'Salt Lake City, UT', 'Los Angeles, CA', nan, 'Salt Lake City, UT', 'Orlando, FL', 'Denver, CO', 'Washington, DC', 'New York, NY', 'Dallas, TX', 'Boston, MA', 'Columbus, OH', 'Boston, MA', 'Seattle, WA', 'San Jose, CA', 'New York, NY', 'Orlando, FL', 'Boston, MA', 'Salt Lake City, UT', 'San Jose, CA', 'Columbus, OH', 'Denver, CO', 'Toronto, Ontario', 'Philadelphia, PA', 'Salt Lake City, UT', 'Houston, TX', 'Salt Lake City, UT', 'New York, NY', nan, 'Columbus, OH', 'Chicago, IL', 'Kansas City, MO', 'San Jose, CA', 'Montreal, Quebec', 'Orlando, FL', 'Philadelphia, PA', 'Columbus, OH', nan, 'Orlando, FL', nan, 'Denver, CO', 'Los Angeles, CA', 'San Jose, CA', 'San Jose, CA', 'Boston, MA', 'Kansas City, MO', 'San Jose, CA', 'Seattle, WA', 'Vancouver, Canada', 'Houston, TX', nan, nan, 'Dallas, TX', 'Orlando, FL', 'Houston, TX', 'Orlando, FL', 'Boston, MA', 'New York, NY', 'Chicago, IL', nan, 'Washington, DC', 'New York, NY', 'Dallas, TX', 'Vancouver, Canada', 'San Jose, CA', 'Boston, MA', 'Dallas, TX', 'Houston, TX', 'New York, NY', 'Los Angeles, CA', 'Orlando, FL', 'New York, NY', 'Boston, MA', 'Vancouver, Canada', 'Montreal, Quebec', 'Philadelphia, PA', 'Chicago, IL', 'Boston, MA', 'Kansas City, MO', 'Orlando, FL', 'Columbus, OH', 'Philadelphia, PA', 'Montreal, Quebec', 'Columbus, OH', 'Toronto, Ontario', 'Toronto, Ontario', 'Los Angeles, CA', 'Orlando, FL', 'Vancouver, Canada', 'Chicago, IL', 'Denver, CO', 'San Jose, CA', 'New York, NY', 'Dallas, TX', 'Los Angeles, CA', 'Columbus, OH', 'Orlando, FL', 'Houston, TX', 'Salt Lake City, UT', 'Los Angeles, CA', 'Columbus, OH', 'Montreal, Quebec', 'San Jose, CA', 'Salt Lake City, UT', 'Toronto, Ontario', 'Denver, CO', 'Orlando, FL', 'Salt Lake City, UT', 'Vancouver, Canada', 'New York, NY', 'Columbus, OH', nan, 'Columbus, OH', 'Salt Lake City, UT', 'Vancouver, Canada', 'Philadelphia, PA', 'Salt Lake City, UT', 'Columbus, OH', 'Denver, CO', 'Houston, TX', 'Seattle, WA', 'Washington, DC', 'Chicago, IL', 'Houston, TX', 'San Jose, CA', 'Washington, DC', 'Los Angeles, CA', 'Columbus, OH', 'Dallas, TX', 'Los Angeles, CA', 'Chicago, IL', 'Houston, TX', 'Denver, CO', 'Washington, DC', 'Montreal, Quebec', 'Chicago, IL', 'Houston, TX', 'San Jose, CA', 'Los Angeles, CA', 'Salt Lake City, UT', 'Kansas City, MO', 'Philadelphia, PA', 'San Jose, CA', 'New York, NY', 'Chicago, IL', 'New York, NY', 'Denver, CO', 'Kansas City, MO', 'Toronto, Ontario', 'Toronto, Ontario', 'Vancouver, Canada', 'Salt Lake City, UT', 'Toronto, Ontario', 'Seattle, WA', 'Chicago, IL', 'Montreal, Quebec', 'Salt Lake City, UT', 'San Jose, CA', 'Denver, CO', 'Los Angeles, CA', 'Toronto, Ontario', 'Columbus, OH', 'Salt Lake City, UT', 'Washington, DC', 'Vancouver, Canada', 'Philadelphia, PA', 'Montreal, Quebec', 'Kansas City, MO', 'New York, NY', 'Denver, CO', 'New York, NY', 'Toronto, Ontario', 'Seattle, WA', 'Chicago, IL', nan, 'Toronto, Ontario', 'San Jose, CA', 'San Jose, CA', 'Houston, TX', 'Boston, MA', 'Philadelphia, PA', 'Boston, MA', 'Dallas, TX', 'Seattle, WA', 'Los Angeles, CA', 'Los Angeles, CA', 'Orlando, FL', nan, 'Dallas, TX', 'San Jose, CA', 'New York, NY', 'Dallas, TX', 'New York, NY', 'Washington, DC', 'Orlando, FL', 'Kansas City, MO', 'Orlando, FL', 'San Jose, CA', 'Vancouver, Canada', 'Los Angeles, CA', 'Seattle, WA', 'Houston, TX', 'Minneapolis, MN', nan, 'Kansas City, MO', nan, 'Kansas City, MO', 'New York, NY', 'Minneapolis, MN', 'Toronto, Ontario', 'Salt Lake City, UT', 'Atlanta, GA', 'Houston, TX', 'Salt Lake City, UT', 'Los Angeles, CA', 'Washington, DC', 'Denver, CO', 'Salt Lake City, UT', 'Kansas City, MO', 'Dallas, TX', 'Orlando, FL', 'San Jose, CA', 'Dallas, TX', 'Vancouver, Canada', 'New York, NY', 'Philadelphia, PA', 'Seattle, WA', 'Dallas, TX', 'Chicago, IL', 'Minneapolis, MN', 'Columbus, OH', 'Seattle, WA', 'Atlanta, GA', 'Vancouver, Canada', 'Dallas, TX', 'Denver, CO', 'New York, NY', 'New York, NY', 'New York, NY', 'Houston, TX', 'Orlando, FL', 'Boston, MA', 'Chicago, IL', 'Los Angeles, CA', 'Minneapolis, MN', 'Denver, CO', 'New York, NY', 'Kansas City, MO', 'Vancouver, Canada', 'Atlanta, GA', 'New York, NY', 'Atlanta, GA', 'Houston, TX', 'Vancouver, Canada', 'Houston, TX', 'Columbus, OH', 'Orlando, FL', 'Dallas, TX', 'Washington, DC', 'Philadelphia, PA', 'Boston, MA', 'Dallas, TX', 'Denver, CO', 'Vancouver, Canada', 'Chicago, IL', 'Philadelphia, PA', 'Dallas, TX', 'San Jose, CA', 'Kansas City, MO', 'Atlanta, GA', 'Columbus, OH', 'Toronto, Ontario', 'Los Angeles, CA', 'Seattle, WA', 'Vancouver, Canada', 'Los Angeles, CA', 'Vancouver, Canada', 'Dallas, TX', 'Minneapolis, MN', 'Vancouver, Canada', 'New York, NY', 'Los Angeles, CA', 'Kansas City, MO', 'Boston, MA', nan, 'Columbus, OH', 'New York, NY', 'Columbus, OH', 'Chicago, IL', nan, 'Toronto, Ontario', 'Denver, CO', 'San Jose, CA', 'Salt Lake City, UT', 'Seattle, WA', 'Atlanta, GA', 'San Jose, CA', 'Houston, TX', 'Los Angeles, CA', 'Boston, MA', 'Kansas City, MO', 'Denver, CO', 'Atlanta, GA', 'Los Angeles, CA', 'Houston, TX', 'Salt Lake City, UT', nan, 'Los Angeles, CA', 'San Jose, CA', 'Atlanta, GA', 'Montreal, Quebec', 'Orlando, FL', 'New York, NY', 'Salt Lake City, UT', 'Los Angeles, CA', 'Los Angeles, CA', 'Vancouver, Canada', 'San Jose, CA', 'New York, NY', 'Chicago, IL', 'Houston, TX', 'Los Angeles, CA', 'Boston, MA', 'Orlando, FL', 'New York, NY', 'Dallas, TX', 'Salt Lake City, UT', 'Los Angeles, CA', 'Washington, DC', 'Montreal, Quebec', 'Boston, MA', 'Orlando, FL', 'Columbus, OH', nan, 'Kansas City, MO', 'Kansas City, MO', 'Los Angeles, CA', 'San Jose, CA', 'Chicago, IL', 'Washington, DC', 'Salt Lake City, UT', nan, 'Orlando, FL', 'Columbus, OH', 'Dallas, TX', 'Denver, CO', 'Houston, TX', 'Chicago, IL', 'New York, NY', 'Atlanta, GA', 'New York, NY', 'Atlanta, GA', 'Denver, CO', 'Vancouver, Canada', 'New York, NY', 'Toronto, Ontario', 'Cincinnati, OH', 'Washington, DC', 'Chicago, IL', 'Minneapolis, MN', 'Kansas City, MO', 'Minneapolis, MN', 'Seattle, WA', 'New York, NY', 'Dallas, TX', 'Vancouver, Canada', 'Kansas City, MO', 'Seattle, WA', 'Minneapolis, MN', 'Los Angeles, CA', 'Toronto, Ontario', 'Houston, TX', 'Montreal, Quebec', 'Philadelphia, PA', 'Kansas City, MO', 'Dallas, TX', 'New York, NY', 'Chicago, IL', 'Boston, MA', 'Washington, DC', 'Philadelphia, PA', 'Vancouver, Canada', 'Columbus, OH', 'Washington, DC', 'Houston, TX', 'Toronto, Ontario', 'San Jose, CA', 'Chicago, IL', 'Vancouver, Canada', 'Boston, MA', 'Dallas, TX', 'Washington, DC', 'Atlanta, GA', 'Philadelphia, PA', 'Washington, DC', nan, 'Chicago, IL', nan, 'Salt Lake City, UT', 'Chicago, IL', 'Dallas, TX', 'Minneapolis, MN', 'San Jose, CA', 'Seattle, WA', 'Columbus, OH', 'Toronto, Ontario', 'New York, NY', 'Columbus, OH', 'Montreal, Quebec', 'Minneapolis, MN', 'Houston, TX', 'Los Angeles, CA', 'Los Angeles, CA', 'Columbus, OH', 'Boston, MA', 'Orlando, FL', 'New York, NY', 'Orlando, FL', 'Philadelphia, PA', 'Seattle, WA', 'Vancouver, Canada', 'Cincinnati, OH', 'Boston, MA', 'Los Angeles, CA', nan, 'Dallas, TX', nan, 'Chicago, IL', 'Cincinnati, OH', 'Montreal, Quebec', 'New York, NY', 'Minneapolis, MN', 'Kansas City, MO', 'Washington, DC', 'Seattle, WA', 'Toronto, Ontario', 'Philadelphia, PA']\n"
     ]
    }
   ],
   "source": [
    "print(list_of_cities_of_draws)"
   ]
  },
  {
   "cell_type": "code",
   "execution_count": null,
   "metadata": {},
   "outputs": [],
   "source": []
  }
 ],
 "metadata": {
  "kernelspec": {
   "display_name": "Python 3",
   "language": "python",
   "name": "python3"
  },
  "language_info": {
   "codemirror_mode": {
    "name": "ipython",
    "version": 3
   },
   "file_extension": ".py",
   "mimetype": "text/x-python",
   "name": "python",
   "nbconvert_exporter": "python",
   "pygments_lexer": "ipython3",
   "version": "3.7.3"
  }
 },
 "nbformat": 4,
 "nbformat_minor": 2
}
